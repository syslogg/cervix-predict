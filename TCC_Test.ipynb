{
  "nbformat": 4,
  "nbformat_minor": 0,
  "metadata": {
    "colab": {
      "name": "TCC Test",
      "version": "0.3.2",
      "provenance": [],
      "include_colab_link": true
    },
    "kernelspec": {
      "name": "python3",
      "display_name": "Python 3"
    }
  },
  "cells": [
    {
      "cell_type": "markdown",
      "metadata": {
        "id": "view-in-github",
        "colab_type": "text"
      },
      "source": [
        "<a href=\"https://colab.research.google.com/github/syslogg/cervix-predict/blob/master/TCC_Test.ipynb\" target=\"_parent\"><img src=\"https://colab.research.google.com/assets/colab-badge.svg\" alt=\"Open In Colab\"/></a>"
      ]
    },
    {
      "cell_type": "code",
      "metadata": {
        "id": "Gr2ANWAsD8Ix",
        "colab_type": "code",
        "colab": {
          "base_uri": "https://localhost:8080/",
          "height": 144
        },
        "outputId": "f8c7001c-03f7-47c1-d11c-5f3b1a9a42c4"
      },
      "source": [
        "!git clone https://github.com/syslogg/cervix-predict.git"
      ],
      "execution_count": 8,
      "outputs": [
        {
          "output_type": "stream",
          "text": [
            "Cloning into 'cervix-predict'...\n",
            "remote: Enumerating objects: 1914, done.\u001b[K\n",
            "remote: Counting objects:   0% (1/1914)\u001b[K\rremote: Counting objects:   1% (20/1914)\u001b[K\rremote: Counting objects:   2% (39/1914)\u001b[K\rremote: Counting objects:   3% (58/1914)\u001b[K\rremote: Counting objects:   4% (77/1914)\u001b[K\rremote: Counting objects:   5% (96/1914)\u001b[K\rremote: Counting objects:   6% (115/1914)\u001b[K\rremote: Counting objects:   7% (134/1914)\u001b[K\rremote: Counting objects:   8% (154/1914)\u001b[K\rremote: Counting objects:   9% (173/1914)\u001b[K\rremote: Counting objects:  10% (192/1914)\u001b[K\rremote: Counting objects:  11% (211/1914)\u001b[K\rremote: Counting objects:  12% (230/1914)\u001b[K\rremote: Counting objects:  13% (249/1914)\u001b[K\rremote: Counting objects:  14% (268/1914)\u001b[K\rremote: Counting objects:  15% (288/1914)\u001b[K\rremote: Counting objects:  16% (307/1914)\u001b[K\rremote: Counting objects:  17% (326/1914)\u001b[K\rremote: Counting objects:  18% (345/1914)\u001b[K\rremote: Counting objects:  19% (364/1914)\u001b[K\rremote: Counting objects:  20% (383/1914)\u001b[K\rremote: Counting objects:  21% (402/1914)\u001b[K\rremote: Counting objects:  22% (422/1914)\u001b[K\rremote: Counting objects:  23% (441/1914)\u001b[K\rremote: Counting objects:  24% (460/1914)\u001b[K\rremote: Counting objects:  25% (479/1914)\u001b[K\rremote: Counting objects:  26% (498/1914)\u001b[K\rremote: Counting objects:  27% (517/1914)\u001b[K\rremote: Counting objects:  28% (536/1914)\u001b[K\rremote: Counting objects:  29% (556/1914)\u001b[K\rremote: Counting objects:  30% (575/1914)\u001b[K\rremote: Counting objects:  31% (594/1914)\u001b[K\rremote: Counting objects:  32% (613/1914)\u001b[K\rremote: Counting objects:  33% (632/1914)\u001b[K\rremote: Counting objects:  34% (651/1914)\u001b[K\rremote: Counting objects:  35% (670/1914)\u001b[K\rremote: Counting objects:  36% (690/1914)\u001b[K\rremote: Counting objects:  37% (709/1914)\u001b[K\rremote: Counting objects:  38% (728/1914)\u001b[K\rremote: Counting objects:  39% (747/1914)\u001b[K\rremote: Counting objects:  40% (766/1914)\u001b[K\rremote: Counting objects:  41% (785/1914)\u001b[K\rremote: Counting objects:  42% (804/1914)\u001b[K\rremote: Counting objects:  43% (824/1914)\u001b[K\rremote: Counting objects:  44% (843/1914)\u001b[K\rremote: Counting objects:  45% (862/1914)\u001b[K\rremote: Counting objects:  46% (881/1914)\u001b[K\rremote: Counting objects:  47% (900/1914)\u001b[K\rremote: Counting objects:  48% (919/1914)\u001b[K\rremote: Counting objects:  49% (938/1914)\u001b[K\rremote: Counting objects:  50% (957/1914)\u001b[K\rremote: Counting objects:  51% (977/1914)\u001b[K\rremote: Counting objects:  52% (996/1914)\u001b[K\rremote: Counting objects:  53% (1015/1914)\u001b[K\rremote: Counting objects:  54% (1034/1914)\u001b[K\rremote: Counting objects:  55% (1053/1914)\u001b[K\rremote: Counting objects:  56% (1072/1914)\u001b[K\rremote: Counting objects:  57% (1091/1914)\u001b[K\rremote: Counting objects:  58% (1111/1914)\u001b[K\rremote: Counting objects:  59% (1130/1914)\u001b[K\rremote: Counting objects:  60% (1149/1914)\u001b[K\rremote: Counting objects:  61% (1168/1914)\u001b[K\rremote: Counting objects:  62% (1187/1914)\u001b[K\rremote: Counting objects:  63% (1206/1914)\u001b[K\rremote: Counting objects:  64% (1225/1914)\u001b[K\rremote: Counting objects:  65% (1245/1914)\u001b[K\rremote: Counting objects:  66% (1264/1914)\u001b[K\rremote: Counting objects:  67% (1283/1914)\u001b[K\rremote: Counting objects:  68% (1302/1914)\u001b[K\rremote: Counting objects:  69% (1321/1914)\u001b[K\rremote: Counting objects:  70% (1340/1914)\u001b[K\rremote: Counting objects:  71% (1359/1914)\u001b[K\rremote: Counting objects:  72% (1379/1914)\u001b[K\rremote: Counting objects:  73% (1398/1914)\u001b[K\rremote: Counting objects:  74% (1417/1914)\u001b[K\rremote: Counting objects:  75% (1436/1914)\u001b[K\rremote: Counting objects:  76% (1455/1914)\u001b[K\rremote: Counting objects:  77% (1474/1914)\u001b[K\rremote: Counting objects:  78% (1493/1914)\u001b[K\rremote: Counting objects:  79% (1513/1914)\u001b[K\rremote: Counting objects:  80% (1532/1914)\u001b[K\rremote: Counting objects:  81% (1551/1914)\u001b[K\rremote: Counting objects:  82% (1570/1914)\u001b[K\rremote: Counting objects:  83% (1589/1914)\u001b[K\rremote: Counting objects:  84% (1608/1914)\u001b[K\rremote: Counting objects:  85% (1627/1914)\u001b[K\rremote: Counting objects:  86% (1647/1914)\u001b[K\rremote: Counting objects:  87% (1666/1914)\u001b[K\rremote: Counting objects:  88% (1685/1914)\u001b[K\rremote: Counting objects:  89% (1704/1914)\u001b[K\rremote: Counting objects:  90% (1723/1914)\u001b[K\rremote: Counting objects:  91% (1742/1914)\u001b[K\rremote: Counting objects:  92% (1761/1914)\u001b[K\rremote: Counting objects:  93% (1781/1914)\u001b[K\rremote: Counting objects:  94% (1800/1914)\u001b[K\rremote: Counting objects:  95% (1819/1914)\u001b[K\rremote: Counting objects:  96% (1838/1914)\u001b[K\rremote: Counting objects:  97% (1857/1914)\u001b[K\rremote: Counting objects:  98% (1876/1914)\u001b[K\rremote: Counting objects:  99% (1895/1914)\u001b[K\rremote: Counting objects: 100% (1914/1914)\u001b[K\rremote: Counting objects: 100% (1914/1914), done.\u001b[K\n",
            "remote: Compressing objects: 100% (983/983), done.\u001b[K\n",
            "remote: Total 1914 (delta 937), reused 1898 (delta 925), pack-reused 0\u001b[K\n",
            "Receiving objects: 100% (1914/1914), 41.47 MiB | 23.07 MiB/s, done.\n",
            "Resolving deltas: 100% (937/937), done.\n"
          ],
          "name": "stdout"
        }
      ]
    },
    {
      "cell_type": "code",
      "metadata": {
        "id": "S6etf__hEJlY",
        "colab_type": "code",
        "colab": {
          "base_uri": "https://localhost:8080/",
          "height": 35
        },
        "outputId": "25534c52-edf7-4142-83fd-3556a227730d"
      },
      "source": [
        "!cat ~/.ssh/id_rsa.pub"
      ],
      "execution_count": 7,
      "outputs": [
        {
          "output_type": "stream",
          "text": [
            "cat: /root/.ssh/id_rsa.pub: No such file or directory\n"
          ],
          "name": "stdout"
        }
      ]
    },
    {
      "cell_type": "code",
      "metadata": {
        "id": "9d8oqTYBFPwZ",
        "colab_type": "code",
        "colab": {}
      },
      "source": [
        ""
      ],
      "execution_count": 0,
      "outputs": []
    }
  ]
}