{
  "nbformat": 4,
  "nbformat_minor": 0,
  "metadata": {
    "colab": {
      "name": "MainNotebook",
      "version": "0.3.2",
      "provenance": [],
      "collapsed_sections": [],
      "include_colab_link": true
    },
    "kernelspec": {
      "name": "python3",
      "display_name": "Python 3"
    },
    "accelerator": "GPU"
  },
  "cells": [
    {
      "cell_type": "markdown",
      "metadata": {
        "id": "view-in-github",
        "colab_type": "text"
      },
      "source": [
        "<a href=\"https://colab.research.google.com/github/syslogg/cervix-predict/blob/master/MainNotebook.ipynb\" target=\"_parent\"><img src=\"https://colab.research.google.com/assets/colab-badge.svg\" alt=\"Open In Colab\"/></a>"
      ]
    },
    {
      "cell_type": "code",
      "metadata": {
        "id": "Gr2ANWAsD8Ix",
        "colab_type": "code",
        "colab": {
          "base_uri": "https://localhost:8080/",
          "height": 35
        },
        "outputId": "692eae84-64b0-4fee-ee59-8cbbe92cbc07"
      },
      "source": [
        "\"\"\"\n",
        "Created on Aug\n",
        "\n",
        "@author: Hendy Rodrigues F.Silva\n",
        "\"\"\"\n",
        "\n",
        "import matplotlib.pyplot as plt\n",
        "from keras.utils import to_categorical\n",
        "import numpy as np\n",
        "import pandas as pd\n",
        "import os\n",
        "\n",
        "#Data Augument\n",
        "from keras.preprocessing.image import ImageDataGenerator\n",
        "from PIL import Image\n",
        "from imutils import paths\n",
        "import cv2\n",
        "\n",
        "from sklearn.preprocessing import LabelBinarizer\n",
        "from sklearn.model_selection import train_test_split\n",
        "\n",
        "#Metrics\n",
        "from sklearn.metrics import classification_report\n",
        "\n",
        "#Cross Validator\n",
        "from sklearn.model_selection import KFold\n",
        "\n",
        "from keras.models import Sequential\n",
        "#import SpatialPyramidPooling\n",
        "\n",
        "# Layers\n",
        "from keras.layers import Dense\n",
        "from keras.layers import Flatten\n",
        "from keras.layers import Conv2D\n",
        "from keras.layers import MaxPool2D, Activation"
      ],
      "execution_count": 1,
      "outputs": [
        {
          "output_type": "stream",
          "text": [
            "Using TensorFlow backend.\n"
          ],
          "name": "stderr"
        }
      ]
    },
    {
      "cell_type": "code",
      "metadata": {
        "id": "vZrvDdIsIfqj",
        "colab_type": "code",
        "colab": {
          "base_uri": "https://localhost:8080/",
          "height": 35
        },
        "outputId": "9a9cbdb5-4d2a-43e7-e969-ba105f497a04"
      },
      "source": [
        "from google.colab import drive\n",
        "drive.mount('/content/drive')"
      ],
      "execution_count": 2,
      "outputs": [
        {
          "output_type": "stream",
          "text": [
            "Drive already mounted at /content/drive; to attempt to forcibly remount, call drive.mount(\"/content/drive\", force_remount=True).\n"
          ],
          "name": "stdout"
        }
      ]
    },
    {
      "cell_type": "code",
      "metadata": {
        "id": "S6etf__hEJlY",
        "colab_type": "code",
        "colab": {}
      },
      "source": [
        "BATCH_SIZE_HERLEV = 917\n",
        "\n",
        "DIRECTORY_HERLEV = r'drive/My Drive/Colab Notebooks/tcc/dataset/herlev'\n",
        "\n",
        "LABELS_HERLEV = set([\n",
        "        'carcinoma_in_situ',\n",
        "        'light_dysplastic',\n",
        "        'moderate_dysplastic', # drive/'My Drive'/'Colab Notebooks'/tcc/\n",
        "        'normal_columnar',\n",
        "        'normal_intermediate',\n",
        "        'normal_superficiel',\n",
        "        'severe_dysplastic'])"
      ],
      "execution_count": 0,
      "outputs": []
    },
    {
      "cell_type": "code",
      "metadata": {
        "id": "9d8oqTYBFPwZ",
        "colab_type": "code",
        "colab": {}
      },
      "source": [
        "def load_images(path, labelsPath=[], target_resizer=(250, 250)):\n",
        "    imagePaths = list(paths.list_images(path))\n",
        "    data = []\n",
        "    labels = []\n",
        "\n",
        "    for imgPath in imagePaths:\n",
        "        label = imgPath.split(os.path.sep)[-2]\n",
        "\n",
        "        if label not in labelsPath:\n",
        "            continue\n",
        "\n",
        "        image = cv2.imread(imgPath)\n",
        "        image = cv2.resize(image,target_resizer)\n",
        "\n",
        "        data.append(image)\n",
        "        labels.append(label)\n",
        "\n",
        "    return np.array(data), labels"
      ],
      "execution_count": 0,
      "outputs": []
    },
    {
      "cell_type": "code",
      "metadata": {
        "id": "6bLr41KAIV6u",
        "colab_type": "code",
        "colab": {}
      },
      "source": [
        "\n",
        "X, Y_without_encoded = load_images(DIRECTORY_HERLEV, LABELS_HERLEV)\n",
        "X = X / 255\n"
      ],
      "execution_count": 0,
      "outputs": []
    },
    {
      "cell_type": "code",
      "metadata": {
        "id": "Sz63WmgxIZBS",
        "colab_type": "code",
        "colab": {}
      },
      "source": [
        "# Codificação One Hot\n",
        "lb = LabelBinarizer()\n",
        "Y = lb.fit_transform(Y_without_encoded)"
      ],
      "execution_count": 0,
      "outputs": []
    },
    {
      "cell_type": "code",
      "metadata": {
        "id": "Ja3GiFdzIauO",
        "colab_type": "code",
        "colab": {}
      },
      "source": [
        "# Divisão de DataSets de Treino e Teste\n",
        "(X_train, X_test, Y_train, Y_test) = train_test_split(X, Y, test_size=0.25, stratify=Y, random_state=1)"
      ],
      "execution_count": 0,
      "outputs": []
    },
    {
      "cell_type": "code",
      "metadata": {
        "id": "P4YWwjl6PZxs",
        "colab_type": "code",
        "colab": {}
      },
      "source": [
        "# -=== Trabalhar com Data Augmentation ===-\n",
        "dataGenerator = ImageDataGenerator(rotation_range=20, zoom_range=0.15,\n",
        "                        \twidth_shift_range=0.2, height_shift_range=0.2, shear_range=0.15,\n",
        "                        \thorizontal_flip=True, fill_mode=\"nearest\")"
      ],
      "execution_count": 0,
      "outputs": []
    },
    {
      "cell_type": "code",
      "metadata": {
        "id": "uRY7XSYTPbAH",
        "colab_type": "code",
        "colab": {
          "base_uri": "https://localhost:8080/",
          "height": 273
        },
        "outputId": "704f86ad-e883-45c0-e64e-27f0812fcb0c"
      },
      "source": [
        "# 2. Montagem da Rede Neural Convolucional\n",
        "\n",
        "class NeuralNetwork:\n",
        "    @staticmethod\n",
        "    def build(num_filter, num_class):\n",
        "        cnn = Sequential()\n",
        "\n",
        "        # Passo 1: Criar Camada Convolucional\n",
        "        cnn.add(Conv2D(num_filter, kernel_size=(7, 7), activation='relu',input_shape=(250, 250, 3)))\n",
        "\n",
        "        # Passo 2: Efetuar o MaxPooling\n",
        "        cnn.add(MaxPool2D())\n",
        "        \n",
        "        num_filter = num_filter * 2\n",
        "        cnn.add(Conv2D(num_filter, kernel_size=(5, 5), activation='relu'))\n",
        "        cnn.add(MaxPool2D())\n",
        "        \n",
        "        num_filter = num_filter * 2\n",
        "        cnn.add(Conv2D(num_filter, kernel_size=(3, 3), activation='relu'))\n",
        "        cnn.add(MaxPool2D())\n",
        "        \n",
        "        cnn.add(Conv2D(num_filter, kernel_size=(3, 3), activation='relu'))\n",
        "        cnn.add(Conv2D(num_filter, kernel_size=(3, 3), activation='relu'))\n",
        "        cnn.add(Conv2D(num_filter, kernel_size=(3, 3), activation='relu'))\n",
        "        cnn.add(MaxPool2D())\n",
        "        \n",
        "        # Passo 3: Flatten as saidas da camada convolucional\n",
        "        cnn.add(Flatten())\n",
        "\n",
        "        # Passo 4: Exibir saida com uma camada totalmente conectada (Fully-Connected)\n",
        "        cnn.add(Dense(num_class))\n",
        "        cnn.add(Activation('softmax'))\n",
        "        #cnn.add(SpatialPyramidPooling([1, 2, 4])) # Pesquisar sobre\n",
        "        \n",
        "        #https://machinelearningmastery.com/how-to-reduce-overfitting-with-dropout-regularization-in-keras/\n",
        "\n",
        "        return cnn\n",
        "\n",
        "model = NeuralNetwork.build(8,len(lb.classes_))\n",
        "model.compile(\n",
        "            loss='categorical_crossentropy', # Verificar cada parametro.\n",
        "            optimizer='adam',\n",
        "            metrics=['accuracy']\n",
        ")"
      ],
      "execution_count": 9,
      "outputs": [
        {
          "output_type": "stream",
          "text": [
            "WARNING: Logging before flag parsing goes to stderr.\n",
            "W0902 23:37:16.073819 139726810085248 deprecation_wrapper.py:119] From /usr/local/lib/python3.6/dist-packages/keras/backend/tensorflow_backend.py:66: The name tf.get_default_graph is deprecated. Please use tf.compat.v1.get_default_graph instead.\n",
            "\n",
            "W0902 23:37:16.092803 139726810085248 deprecation_wrapper.py:119] From /usr/local/lib/python3.6/dist-packages/keras/backend/tensorflow_backend.py:541: The name tf.placeholder is deprecated. Please use tf.compat.v1.placeholder instead.\n",
            "\n",
            "W0902 23:37:16.096306 139726810085248 deprecation_wrapper.py:119] From /usr/local/lib/python3.6/dist-packages/keras/backend/tensorflow_backend.py:4432: The name tf.random_uniform is deprecated. Please use tf.random.uniform instead.\n",
            "\n",
            "W0902 23:37:16.114850 139726810085248 deprecation_wrapper.py:119] From /usr/local/lib/python3.6/dist-packages/keras/backend/tensorflow_backend.py:4267: The name tf.nn.max_pool is deprecated. Please use tf.nn.max_pool2d instead.\n",
            "\n",
            "W0902 23:37:16.197931 139726810085248 deprecation_wrapper.py:119] From /usr/local/lib/python3.6/dist-packages/keras/optimizers.py:793: The name tf.train.Optimizer is deprecated. Please use tf.compat.v1.train.Optimizer instead.\n",
            "\n",
            "W0902 23:37:16.218064 139726810085248 deprecation_wrapper.py:119] From /usr/local/lib/python3.6/dist-packages/keras/backend/tensorflow_backend.py:3576: The name tf.log is deprecated. Please use tf.math.log instead.\n",
            "\n"
          ],
          "name": "stderr"
        }
      ]
    },
    {
      "cell_type": "code",
      "metadata": {
        "id": "HHwRQDTGPcX6",
        "colab_type": "code",
        "colab": {
          "base_uri": "https://localhost:8080/",
          "height": 1000
        },
        "outputId": "4df9fa29-d8a3-4df4-f21a-293bfb1f8f83"
      },
      "source": [
        "# 3. Treinamento da Rede Neural\n",
        "\n",
        "STEPS_PER_EPOCH = len(X_train)\n",
        "EPOCHS = 30\n",
        "BATCH_SIZE=32\n",
        "\n",
        "result = model.fit_generator(dataGenerator.flow(X_train,Y_train, batch_size=BATCH_SIZE),\n",
        "                             validation_data=(X_test, Y_test), steps_per_epoch=STEPS_PER_EPOCH, epochs=EPOCHS)"
      ],
      "execution_count": 10,
      "outputs": [
        {
          "output_type": "stream",
          "text": [
            "W0902 23:37:16.677542 139726810085248 deprecation.py:323] From /usr/local/lib/python3.6/dist-packages/tensorflow/python/ops/math_grad.py:1250: add_dispatch_support.<locals>.wrapper (from tensorflow.python.ops.array_ops) is deprecated and will be removed in a future version.\n",
            "Instructions for updating:\n",
            "Use tf.where in 2.0, which has the same broadcast rule as np.where\n",
            "W0902 23:37:16.754276 139726810085248 deprecation_wrapper.py:119] From /usr/local/lib/python3.6/dist-packages/keras/backend/tensorflow_backend.py:1033: The name tf.assign_add is deprecated. Please use tf.compat.v1.assign_add instead.\n",
            "\n"
          ],
          "name": "stderr"
        },
        {
          "output_type": "stream",
          "text": [
            "Epoch 1/30\n",
            "687/687 [==============================] - 256s 373ms/step - loss: 1.6876 - acc: 0.3116 - val_loss: 1.4294 - val_acc: 0.3783\n",
            "Epoch 2/30\n",
            "687/687 [==============================] - 251s 365ms/step - loss: 1.3431 - acc: 0.4580 - val_loss: 1.3055 - val_acc: 0.4435\n",
            "Epoch 3/30\n",
            "687/687 [==============================] - 251s 365ms/step - loss: 1.0966 - acc: 0.5536 - val_loss: 1.1633 - val_acc: 0.5348\n",
            "Epoch 4/30\n",
            "687/687 [==============================] - 252s 366ms/step - loss: 0.9810 - acc: 0.5985 - val_loss: 1.1916 - val_acc: 0.5174\n",
            "Epoch 5/30\n",
            "687/687 [==============================] - 251s 365ms/step - loss: 0.8860 - acc: 0.6375 - val_loss: 1.2663 - val_acc: 0.5000\n",
            "Epoch 6/30\n",
            "687/687 [==============================] - 249s 362ms/step - loss: 0.7924 - acc: 0.6809 - val_loss: 1.1941 - val_acc: 0.5391\n",
            "Epoch 7/30\n",
            "687/687 [==============================] - 248s 361ms/step - loss: 0.7344 - acc: 0.7098 - val_loss: 1.4739 - val_acc: 0.5478\n",
            "Epoch 8/30\n",
            "687/687 [==============================] - 248s 360ms/step - loss: 0.6681 - acc: 0.7356 - val_loss: 1.2741 - val_acc: 0.5522\n",
            "Epoch 9/30\n",
            "687/687 [==============================] - 246s 359ms/step - loss: 0.6200 - acc: 0.7588 - val_loss: 1.4242 - val_acc: 0.5609\n",
            "Epoch 10/30\n",
            "687/687 [==============================] - 247s 359ms/step - loss: 0.5780 - acc: 0.7764 - val_loss: 1.4734 - val_acc: 0.5348\n",
            "Epoch 11/30\n",
            "687/687 [==============================] - 247s 359ms/step - loss: 0.5346 - acc: 0.7940 - val_loss: 1.4356 - val_acc: 0.5304\n",
            "Epoch 12/30\n",
            "687/687 [==============================] - 246s 358ms/step - loss: 0.4992 - acc: 0.8080 - val_loss: 1.6481 - val_acc: 0.5609\n",
            "Epoch 13/30\n",
            "687/687 [==============================] - 246s 358ms/step - loss: 0.4587 - acc: 0.8211 - val_loss: 1.7651 - val_acc: 0.5435\n",
            "Epoch 14/30\n",
            "687/687 [==============================] - 246s 358ms/step - loss: 0.4528 - acc: 0.8306 - val_loss: 1.8580 - val_acc: 0.5435\n",
            "Epoch 15/30\n",
            "687/687 [==============================] - 244s 355ms/step - loss: 0.4316 - acc: 0.8380 - val_loss: 1.6717 - val_acc: 0.5348\n",
            "Epoch 16/30\n",
            "687/687 [==============================] - 244s 355ms/step - loss: 0.3965 - acc: 0.8482 - val_loss: 1.9305 - val_acc: 0.5348\n",
            "Epoch 17/30\n",
            "687/687 [==============================] - 246s 358ms/step - loss: 0.3795 - acc: 0.8602 - val_loss: 1.9635 - val_acc: 0.5565\n",
            "Epoch 18/30\n",
            "687/687 [==============================] - 249s 362ms/step - loss: 0.3629 - acc: 0.8605 - val_loss: 2.0359 - val_acc: 0.5043\n",
            "Epoch 19/30\n",
            "687/687 [==============================] - 246s 359ms/step - loss: 0.3409 - acc: 0.8740 - val_loss: 2.3329 - val_acc: 0.4870\n",
            "Epoch 20/30\n",
            "687/687 [==============================] - 245s 357ms/step - loss: 0.3334 - acc: 0.8768 - val_loss: 2.2134 - val_acc: 0.5130\n",
            "Epoch 21/30\n",
            "687/687 [==============================] - 246s 359ms/step - loss: 0.3223 - acc: 0.8812 - val_loss: 2.1326 - val_acc: 0.5087\n",
            "Epoch 22/30\n",
            "687/687 [==============================] - 255s 371ms/step - loss: 0.2990 - acc: 0.8918 - val_loss: 2.4762 - val_acc: 0.5217\n",
            "Epoch 23/30\n",
            "687/687 [==============================] - 258s 376ms/step - loss: 0.2933 - acc: 0.8919 - val_loss: 2.1452 - val_acc: 0.5609\n",
            "Epoch 24/30\n",
            "687/687 [==============================] - 258s 376ms/step - loss: 0.2870 - acc: 0.8944 - val_loss: 2.3770 - val_acc: 0.5043\n",
            "Epoch 25/30\n",
            "687/687 [==============================] - 257s 374ms/step - loss: 0.2508 - acc: 0.9086 - val_loss: 2.5653 - val_acc: 0.5522\n",
            "Epoch 26/30\n",
            "687/687 [==============================] - 254s 369ms/step - loss: 0.2624 - acc: 0.9071 - val_loss: 2.5798 - val_acc: 0.5304\n",
            "Epoch 27/30\n",
            "687/687 [==============================] - 256s 372ms/step - loss: 0.3062 - acc: 0.8959 - val_loss: 2.6480 - val_acc: 0.5174\n",
            "Epoch 28/30\n",
            "687/687 [==============================] - 257s 375ms/step - loss: 0.2527 - acc: 0.9087 - val_loss: 2.3572 - val_acc: 0.5391\n",
            "Epoch 29/30\n",
            "687/687 [==============================] - 253s 368ms/step - loss: 0.2405 - acc: 0.9147 - val_loss: 2.5566 - val_acc: 0.5478\n",
            "Epoch 30/30\n",
            "687/687 [==============================] - 251s 366ms/step - loss: 0.2378 - acc: 0.9147 - val_loss: 2.5892 - val_acc: 0.5522\n"
          ],
          "name": "stdout"
        }
      ]
    },
    {
      "cell_type": "code",
      "metadata": {
        "id": "AcSgBB28PxWR",
        "colab_type": "code",
        "colab": {
          "base_uri": "https://localhost:8080/",
          "height": 271
        },
        "outputId": "43b19f00-14a7-4dff-b464-3c2d7add6057"
      },
      "source": [
        "# 4. Predizer modelo de aprendizado\n",
        "\n",
        "predictions = model.predict(X_test, batch_size=32)\n",
        "print(classification_report(Y_test.argmax(axis=1),\n",
        "\tpredictions.argmax(axis=1), target_names=lb.classes_))"
      ],
      "execution_count": 11,
      "outputs": [
        {
          "output_type": "stream",
          "text": [
            "                     precision    recall  f1-score   support\n",
            "\n",
            "  carcinoma_in_situ       0.67      0.47      0.55        38\n",
            "   light_dysplastic       0.53      0.74      0.62        46\n",
            "moderate_dysplastic       0.36      0.32      0.34        37\n",
            "    normal_columnar       0.48      0.52      0.50        25\n",
            "normal_intermediate       0.82      0.82      0.82        17\n",
            " normal_superficiel       0.84      0.89      0.86        18\n",
            "  severe_dysplastic       0.47      0.41      0.43        49\n",
            "\n",
            "           accuracy                           0.55       230\n",
            "          macro avg       0.60      0.60      0.59       230\n",
            "       weighted avg       0.55      0.55      0.55       230\n",
            "\n"
          ],
          "name": "stdout"
        }
      ]
    },
    {
      "cell_type": "code",
      "metadata": {
        "id": "O7RX7dXuPxxY",
        "colab_type": "code",
        "colab": {
          "base_uri": "https://localhost:8080/",
          "height": 299
        },
        "outputId": "ad496c21-3f63-4c43-cc0b-da9ccaf6bb5c"
      },
      "source": [
        "# Grafico com Histórico de acuracia por Epoch\n",
        "\n",
        "N = EPOCHS\n",
        "plt.style.use(\"ggplot\")\n",
        "plt.figure()\n",
        "plt.plot(np.arange(0, N), result.history[\"loss\"], label=\"train_loss\")\n",
        "plt.plot(np.arange(0, N), result.history[\"val_loss\"], label=\"val_loss\")\n",
        "plt.plot(np.arange(0, N), result.history[\"acc\"], label=\"train_acc\")\n",
        "plt.plot(np.arange(0, N), result.history[\"val_acc\"], label=\"val_acc\")\n",
        "plt.title(\"Treinamento: Loss e Accuracy do Dataset HERLEV\")\n",
        "plt.xlabel(\"Epoch #\")\n",
        "plt.ylabel(\"Loss/Accuracy\")\n",
        "plt.legend(loc=\"lower left\")\n",
        "plt.show()"
      ],
      "execution_count": 12,
      "outputs": [
        {
          "output_type": "display_data",
          "data": {
            "image/png": "[encoded data removed]",
            "text/plain": [
              "<Figure size 432x288 with 1 Axes>"
            ]
          },
          "metadata": {
            "tags": []
          }
        }
      ]
    },
    {
      "cell_type": "code",
      "metadata": {
        "id": "D7iJCylAP37K",
        "colab_type": "code",
        "colab": {
          "base_uri": "https://localhost:8080/",
          "height": 55
        },
        "outputId": "dbfe4665-24e5-459e-c1d3-4480e0614aa7"
      },
      "source": [
        "#plt.savefig(args[\"plot\"])\n",
        "\n",
        "\n",
        "# Leitura do banco de imagem\n",
        "\n",
        "# -=== Estudo sobre o Banco de Imagem Herlev ===-\n",
        "\n",
        "\n",
        "\n",
        "# - Quantidade de imagens para cada valor:\n",
        "\n",
        "# 1. Montagem do Dataset\n",
        "\n",
        "\n",
        "\"\"\"\n",
        "train_datagen = ImageDataGenerator(\n",
        "                    rescale=1./255,\n",
        "                    shear_range=0.2,\n",
        "                    zoom_range=0.2,\n",
        "                    horizontal_flip=True,\n",
        "                    validation_split=0.2)\n",
        "\n",
        "valid_datagen = ImageDataGenerator(rescale=1./255, validation_split=0.2)\n",
        "\n",
        "train_generator = train_datagen.flow_from_directory(\n",
        "    directory=r'./dataset/herlev',\n",
        "    target_size=(250, 250),\n",
        "    batch_size=32,\n",
        "    color_mode='rgb',\n",
        "    class_mode='categorical',\n",
        "    seed=1,\n",
        "    shuffle=True,\n",
        "    subset='training'\n",
        ")\n",
        "\n",
        "validator_generator = valid_datagen.flow_from_directory(\n",
        "    directory=r'./dataset/herlev',\n",
        "    target_size=(250, 250),\n",
        "    batch_size=32,\n",
        "    color_mode='rgb',\n",
        "    class_mode='categorical',\n",
        "    seed=1,\n",
        "    shuffle=True,\n",
        "    subset='validation'\n",
        ")\n",
        "\"\"\"\n",
        "\n",
        "\n",
        "\n",
        "\n",
        "\n",
        "# 3. Treinamento Rede Neural\n",
        "\n",
        "\"\"\"\n",
        "model.fit_generator(\n",
        "        train_generator,\n",
        "        steps_per_epoch=len(train_generator),\n",
        "        epochs=10,\n",
        "        validation_data=validator_generator,\n",
        "        validation_steps=len(validator_generator)\n",
        ")\n",
        "\"\"\"\n",
        "\n",
        "# 4. Prever Dados\n",
        "\n",
        "# model.predict()\n",
        "\n",
        "# 5. Postar Resultados"
      ],
      "execution_count": 13,
      "outputs": [
        {
          "output_type": "execute_result",
          "data": {
            "text/plain": [
              "'\\nmodel.fit_generator(\\n        train_generator,\\n        steps_per_epoch=len(train_generator),\\n        epochs=10,\\n        validation_data=validator_generator,\\n        validation_steps=len(validator_generator)\\n)\\n'"
            ]
          },
          "metadata": {
            "tags": []
          },
          "execution_count": 13
        }
      ]
    }
  ]
}